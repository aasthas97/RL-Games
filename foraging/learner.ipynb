{
 "cells": [
  {
   "cell_type": "code",
   "execution_count": null,
   "metadata": {},
   "outputs": [],
   "source": [
    "import numpy as np\n",
    "import matplotlib.pyplot as plt\n",
    "from scipy.stats import norm\n",
    "import scipy.stats as sts\n",
    "import pandas as pd"
   ]
  },
  {
   "cell_type": "code",
   "execution_count": null,
   "metadata": {},
   "outputs": [],
   "source": [
    "df = pd.read_csv('data.csv')\n",
    "numtrials = len(df['trueValue'])\n",
    "trueValue = df['trueValue']\n",
    "optOneChosen = df['optOneChosen']"
   ]
  },
  {
   "cell_type": "code",
   "execution_count": null,
   "metadata": {},
   "outputs": [],
   "source": [
    "plt.plot(trueValue)\n",
    "plt.plot(optOneChosen,'gx')\n",
    "plt.show()"
   ]
  },
  {
   "cell_type": "code",
   "execution_count": null,
   "metadata": {},
   "outputs": [],
   "source": [
    "upper_r, lower_r = 0.99, 0.01\n",
    "upper_v, lower_v = -2, -11\n",
    "upper_k, lower_k = 2, -2\n",
    "n_discrete_v, n_discrete_k, n_discrete_r = 50, 50, 50\n",
    "\n",
    "edges_v = np.linspace(lower_v,upper_v,n_discrete_v) \n",
    "edges_r = np.linspace(lower_r,upper_r,n_discrete_r) \n",
    "edges_k = np.linspace(lower_k,upper_k,n_discrete_k) \n"
   ]
  },
  {
   "cell_type": "code",
   "execution_count": null,
   "metadata": {},
   "outputs": [],
   "source": [
    "# beta distribution\n",
    "epsilon=0\n",
    "def beta(edges_r,r,V):    \n",
    "    a=r/V + epsilon\n",
    "    b=(1/V)*(1-r) + epsilon\n",
    "    return sts.beta.pdf(edges_r,a,b)\n",
    "\n",
    "plt.plot(edges_r,beta(edges_r,0.4,np.exp(-4)))\n",
    "plt.show()"
   ]
  },
  {
   "cell_type": "code",
   "execution_count": null,
   "metadata": {},
   "outputs": [],
   "source": [
    "#pre-compute P(r_i+1 | r_i, v_i+1 )\n",
    "P_rrv = np.zeros((n_discrete_r, n_discrete_r, n_discrete_v))\n",
    "for i,r_i in enumerate(edges_r):\n",
    "    for j,v_j in enumerate(edges_v):\n",
    "        P_rrv[:,i,j] = beta(edges_r, r_i, np.exp(v_j))\n",
    "P_rrv = P_rrv / np.sum(P_rrv,0,keepdims=True)   \n",
    "\n",
    "#pre-compute P(v_i+1 | v_i, k )\n",
    "P_vvk = np.zeros((n_discrete_v, n_discrete_v, n_discrete_k))\n",
    "for i,v_i in enumerate(edges_v):\n",
    "    for j,k_j in enumerate(edges_k):\n",
    "        P_vvk[:,i,j] = norm.pdf(edges_v, loc=v_i, scale=np.exp(k_j))\n",
    "P_vvk = P_vvk / np.sum(P_vvk,0,keepdims=True)"
   ]
  },
  {
   "cell_type": "code",
   "execution_count": null,
   "metadata": {},
   "outputs": [],
   "source": [
    "def single_step(joint, x):\n",
    "    # joint : r_i * v_i * k\n",
    "    # P_vvk : v_i+1 * v_i * k\n",
    "    # int1 : r_i * v_i+1 * k \n",
    "    # P_rrv : r_i+1 * r_i * v_i+1\n",
    "    # int2 : r_i+1 * v_i+1 * k\n",
    "    \n",
    "    # P(y | r)\n",
    "    P_yr = sts.bernoulli.pmf(x,edges_r)  \n",
    "    for i,r_i in enumerate(edges_r):\n",
    "        joint[i,:,:] = joint[i,:,:] * P_yr[i]\n",
    "    \n",
    "    #compute inner integral\n",
    "    int1 = np.zeros((n_discrete_r, n_discrete_v, n_discrete_k)) \n",
    "    for i,k_i in enumerate(edges_k):\n",
    "        int1[:,:,i] = np.matmul(joint[:,:,i], P_vvk[:,:,i].T)\n",
    "        \n",
    "    #compute outer integral\n",
    "    int2 = np.zeros((n_discrete_r, n_discrete_v, n_discrete_k))\n",
    "    for i,v_i in enumerate(edges_v):\n",
    "        int2[:,i,:] = np.matmul(P_rrv[:,:,i], int1[:,i,:])\n",
    "    joint_new = int2 + 0\n",
    "    #normalise\n",
    "    joint_new = joint_new/sum(sum(sum(joint_new)))\n",
    "    \n",
    "    # posterior means\n",
    "    r_mean = np.sum(np.sum(np.sum(joint_new,2),1) * edges_r)\n",
    "    v_mean = np.sum(np.sum(np.sum(joint_new,2),0) * edges_v)\n",
    "    k_mean = np.sum(np.sum(np.sum(joint_new,1),0) * edges_k)\n",
    "        \n",
    "    return joint_new, r_mean, v_mean, k_mean  "
   ]
  },
  {
   "cell_type": "code",
   "execution_count": null,
   "metadata": {},
   "outputs": [],
   "source": [
    "#initialise joint\n",
    "joint=np.ones((n_discrete_r,n_discrete_v,n_discrete_k))\n",
    "joint=joint/sum(sum(sum(joint)))\n",
    "mean_r, mean_v, mean_k = np.zeros(numtrials), np.zeros(numtrials), np.zeros(numtrials)\n",
    "# inference\n",
    "for i in range(n_trials):\n",
    "    print('.',end='')\n",
    "    joint,mean_r[i],mean_v[i],mean_k[i] = single_step(joint,optOneChosen[i])"
   ]
  },
  {
   "cell_type": "code",
   "execution_count": null,
   "metadata": {},
   "outputs": [],
   "source": []
  }
 ],
 "metadata": {
  "kernelspec": {
   "display_name": "Python 3",
   "language": "python",
   "name": "python3"n_tr
  },
  "language_info": {
   "codemirror_mode": {
    "name": "ipython",
    "version": 3
   },
   "file_extension": ".py",
   "mimetype": "text/x-python",
   "name": "python",
   "nbconvert_exporter": "python",
   "pygments_lexer": "ipython3",
   "version": "3.7.4"
  }
 },
 "nbformat": 4,
 "nbformat_minor": 4
}
