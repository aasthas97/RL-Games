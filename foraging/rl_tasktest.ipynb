{
 "cells": [
  {
   "cell_type": "code",
   "execution_count": 38,
   "metadata": {},
   "outputs": [],
   "source": [
    "import numpy as np\n",
    "import random"
   ]
  },
  {
   "cell_type": "code",
   "execution_count": 37,
   "metadata": {},
   "outputs": [],
   "source": [
    "class Land:\n",
    "    def __init__(self, agent, numTrees, travelTime):\n",
    "        self.travelTime = travelTime\n",
    "        self.numTrees = numTrees\n",
    "        self.agent = agent\n",
    "        self.meanReward = 5\n",
    "        self.decay = -1\n",
    "        self.forest = np.zeros(numTrees)\n",
    "        self.forest[:] = self.meanReward # at the beginning of the game, each tree has the same number of fruits\n",
    "        self.isEnd = False\n",
    "        self.position = 0 # place agent at beginning of the forest\n",
    "    \n",
    "    def reset(self):\n",
    "        self.forest = np.zeros(self.numTrees)\n",
    "        self.forest[:] = self.meanReward\n",
    "        self.isEnd = False\n",
    "        self.position = 0\n",
    "    \n",
    "    def CheckTree(self):\n",
    "        \"\"\"Check if further foraging possible on a tree\"\"\"\n",
    "        return True if self.forest[self.position] > 0 else False\n",
    "    \n",
    "    def act(self, action_type):\n",
    "        if action_type == 'exploit':\n",
    "            self.forest[self.position] += self.decay\n",
    "            fruits = self.Reward() # store total rewards somewhere??\n",
    "\n",
    "        elif action_type == 'explore': # fix this\n",
    "            if not self.isEnd:\n",
    "                self.position += 1\n",
    "                GameOver()\n",
    "            \n",
    "#     def Explore(self): # fix this function\n",
    "#         \"\"\"Move to next tree\"\"\"\n",
    "#         if not self.isEnd:\n",
    "#             self.position += 1\n",
    "#             GameOver() # will stop the game at the last tree, no opportunity for player to forage; stop after this       \n",
    "        # Increase time by travelTime (add -ve cost to time?)\n",
    "    \n",
    "    def Reward(self):\n",
    "        return self.forest[self.position]      \n",
    "    \n",
    "    def GameOver(self):\n",
    "        if self.position == len(self.forest) - 1:\n",
    "            self.isEnd = True\n",
    "    \n",
    "    def play(self, rounds = 10):\n",
    "        \"\"\"Unfinished function\"\"\"\n",
    "        for roundnumber in range(rounds):\n",
    "            while not self.isEnd:\n",
    "                agent_action = self.agent.chooseAction(self.forest)\n",
    "                # take action, update forest state\n",
    "                self.act(agent_action)\n",
    "            \n",
    "            # is.End becomes True\n",
    "            self.agent.reset()\n",
    "            self.reset()\n",
    "                \n",
    "                "
   ]
  },
  {
   "cell_type": "code",
   "execution_count": 2,
   "metadata": {},
   "outputs": [],
   "source": [
    "class Player:\n",
    "    def __init__(self, exp_rate = 0.2):\n",
    "        self.name = name\n",
    "        self.states = []  # record all trees foraged\n",
    "        self.alpha = 0.4\n",
    "        self.exp_rate = exp_rate # exploration rate, agent will explore 20% of the time\n",
    "        self.decay_gamma = 0.8\n",
    "        self.states_value = {}  # state -> value\n",
    "    \n",
    "    def reset(self):\n",
    "        self.states = []\n",
    "     \n",
    "    def chooseAction(self, forest):\n",
    "        if np.random.uniform(0, 1) <= self.exp_rate: # random action\n",
    "            action = random.choice(['explore', 'exploit'])\n",
    "            \n",
    "        else: # greedy action\n",
    "            value_max = -999"
   ]
  },
  {
   "cell_type": "code",
   "execution_count": null,
   "metadata": {},
   "outputs": [],
   "source": [
    "# forest defined by number of trees, number of fruits on each tree, and the distance between trees\n",
    "# create a player to forage the forest\n",
    "# Player starts - gets the state of the forest, forages from tree 0\n",
    "# first foraging gives 5 fruits, 2nd gives 4, and so on, until no fruits left"
   ]
  },
  {
   "cell_type": "code",
   "execution_count": 35,
   "metadata": {},
   "outputs": [
    {
     "data": {
      "text/plain": [
       "False"
      ]
     },
     "execution_count": 35,
     "metadata": {},
     "output_type": "execute_result"
    }
   ],
   "source": [
    "game = Land(10, 1)\n",
    "game.forest[1] = -2\n",
    "game.CheckTree(1)"
   ]
  }
 ],
 "metadata": {
  "kernelspec": {
   "display_name": "Python 3",
   "language": "python",
   "name": "python3"
  },
  "language_info": {
   "codemirror_mode": {
    "name": "ipython",
    "version": 3
   },
   "file_extension": ".py",
   "mimetype": "text/x-python",
   "name": "python",
   "nbconvert_exporter": "python",
   "pygments_lexer": "ipython3",
   "version": "3.7.4"
  }
 },
 "nbformat": 4,
 "nbformat_minor": 4
}
